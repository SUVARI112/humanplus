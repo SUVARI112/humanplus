{
 "cells": [
  {
   "cell_type": "code",
   "execution_count": 1,
   "metadata": {},
   "outputs": [],
   "source": [
    "import numpy as np\n",
    "import torch"
   ]
  },
  {
   "cell_type": "code",
   "execution_count": 2,
   "metadata": {},
   "outputs": [
    {
     "data": {
      "text/plain": [
       "tensor([[[0., 0., 0., 0., 0., 0., 0., 0., 0., 0., 0., 0., 0., 0., 0., 0., 0., 0., 0., 0., 0., 0., 0.,\n",
       "          0., 0., 0., 0., 0., 0., 0., 0., 0., 0., 0., 0., 0., 0., 0., 0., 0., 0., 0., 0., 0., 0., 0.,\n",
       "          0., 0., 0., 0., 0., 0., 0., 0., 0., 0., 0., 0., 0., 0., 0., 0., 0.]]])"
      ]
     },
     "execution_count": 2,
     "metadata": {},
     "output_type": "execute_result"
    }
   ],
   "source": [
    "obs_history_buf = torch.zeros(1,1, 63, dtype=torch.float)\n",
    "obs_history_buf"
   ]
  },
  {
   "cell_type": "code",
   "execution_count": 4,
   "metadata": {},
   "outputs": [
    {
     "name": "stdout",
     "output_type": "stream",
     "text": [
      "torch.Size([1, 63])\n"
     ]
    },
    {
     "data": {
      "text/plain": [
       "tensor([[0.4419, 0.7969, 0.3946, 0.6650, 0.7351, 0.6843, 0.0379, 0.2359, 0.8286,\n",
       "         0.0431, 0.9985, 0.1520, 0.5656, 0.3537, 0.6727, 0.4741, 0.5557, 0.5726,\n",
       "         0.9501, 0.7463, 0.3448, 0.5579, 0.3419, 0.1771, 0.4275, 0.9605, 0.2686,\n",
       "         0.2995, 0.3819, 0.6206, 0.1297, 0.8058, 0.2898, 0.4975, 0.6627, 0.8422,\n",
       "         0.8943, 0.5860, 0.8672, 0.7402, 0.8684, 0.8877, 0.6206, 0.3838, 0.9516,\n",
       "         0.1487, 0.1594, 0.1686, 0.8810, 0.3074, 0.7770, 0.3367, 0.6667, 0.1099,\n",
       "         0.3193, 0.1854, 0.8109, 0.2394, 0.8122, 0.3449, 0.4165, 0.9988, 0.0136]])"
      ]
     },
     "execution_count": 4,
     "metadata": {},
     "output_type": "execute_result"
    }
   ],
   "source": [
    "obs_buf_np = np.concatenate((np.random.rand(3), np.random.rand(3), np.random.rand(19), np.random.rand(19), np.random.rand(19) ))\n",
    "obs_buf = torch.tensor(obs_buf_np,dtype=torch.float).unsqueeze(0)\n",
    "print(obs_buf.shape)\n",
    "obs_buf"
   ]
  },
  {
   "cell_type": "code",
   "execution_count": 5,
   "metadata": {},
   "outputs": [
    {
     "data": {
      "text/plain": [
       "torch.Size([1, 1, 63])"
      ]
     },
     "execution_count": 5,
     "metadata": {},
     "output_type": "execute_result"
    }
   ],
   "source": [
    "obs_buf.unsqueeze(1).shape"
   ]
  },
  {
   "cell_type": "code",
   "execution_count": 7,
   "metadata": {},
   "outputs": [
    {
     "data": {
      "text/plain": [
       "torch.Size([1, 1, 63])"
      ]
     },
     "execution_count": 7,
     "metadata": {},
     "output_type": "execute_result"
    }
   ],
   "source": [
    "obs_history_buf = torch.cat([obs_history_buf[:, 1:],\n",
    "                        obs_buf.unsqueeze(1)\n",
    "                    ], dim=1)\n",
    "obs_history_buf.shape"
   ]
  },
  {
   "cell_type": "code",
   "execution_count": 9,
   "metadata": {},
   "outputs": [
    {
     "name": "stderr",
     "output_type": "stream",
     "text": [
      "c:\\Users\\yusuf\\anaconda3\\envs\\ps\\lib\\site-packages\\torch\\serialization.py:1006: UserWarning: 'torch.load' received a zip file that looks like a TorchScript archive dispatching to 'torch.jit.load' (call 'torch.jit.load' directly to silence this warning)\n",
      "  warnings.warn(\"'torch.load' received a zip file that looks like a TorchScript archive\"\n"
     ]
    },
    {
     "data": {
      "text/plain": [
       "tensor([[[-0.1720,  0.3514,  0.1973,  0.6748,  7.0176, -2.3261, -0.9777,\n",
       "           1.0318,  2.3761, 19.3268,  1.6664, -0.6357,  2.8770,  2.8615,\n",
       "           2.6236,  0.5852,  0.9881,  0.8418,  0.2431]]],\n",
       "       grad_fn=<ViewBackward0>)"
      ]
     },
     "execution_count": 9,
     "metadata": {},
     "output_type": "execute_result"
    }
   ],
   "source": [
    "policy = torch.load(\"policy_1.pt\")\n",
    "policy(obs_history_buf.detach())"
   ]
  },
  {
   "cell_type": "code",
   "execution_count": 3,
   "metadata": {},
   "outputs": [
    {
     "name": "stdout",
     "output_type": "stream",
     "text": [
      "The middle value is: 0.0\n"
     ]
    }
   ],
   "source": [
    "import numpy as np\n",
    "\n",
    "def get_middle_value(arr):\n",
    "    if len(arr) % 2 == 0:\n",
    "        raise ValueError(\"Array length must be odd\")\n",
    "    \n",
    "    middle_index = len(arr) // 2\n",
    "    return arr[middle_index]\n",
    "\n",
    "# Example usage\n",
    "array = np.array([-0.5, -0.4, -0.3, -0.2, -0.1 ,0 , 0.1 , 0.2, 0.3, 0.4, 0.5])\n",
    "middle_value = array[len(array)//2]\n",
    "print(f\"The middle value is: {middle_value}\")"
   ]
  }
 ],
 "metadata": {
  "kernelspec": {
   "display_name": "ps1",
   "language": "python",
   "name": "python3"
  },
  "language_info": {
   "codemirror_mode": {
    "name": "ipython",
    "version": 3
   },
   "file_extension": ".py",
   "mimetype": "text/x-python",
   "name": "python",
   "nbconvert_exporter": "python",
   "pygments_lexer": "ipython3",
   "version": "3.8.19"
  }
 },
 "nbformat": 4,
 "nbformat_minor": 2
}
